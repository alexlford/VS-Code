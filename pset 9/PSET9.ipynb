{
 "cells": [
  {
   "cell_type": "markdown",
   "id": "1116f1fa",
   "metadata": {},
   "source": [
    "### 1. Data Loading and Preprocessing:\n",
    "Load stock_n_hl_news.csv into DataFrame df.\n",
    "\n",
    "Convert 'Date' column to datetime format."
   ]
  },
  {
   "cell_type": "code",
   "execution_count": 1,
   "id": "db29140b-50a4-46c4-a77e-6aed00bb5068",
   "metadata": {},
   "outputs": [
    {
     "name": "stdout",
     "output_type": "stream",
     "text": [
      "Shape: (483, 7)\n",
      "         Date       AAPL       NASDAQ          NYA        SP500          DJI  \\\n",
      "0  2017-12-18  41.653164  6994.759766  12785.79980  2690.159912  24792.19922   \n",
      "1  2017-12-19  41.209293  6963.850098  12747.50000  2681.469971  24754.69922   \n",
      "2  2017-12-20  41.164425  6960.959961  12747.59961  2679.250000  24726.69922   \n",
      "3  2017-12-21  41.320255  6965.359863  12800.20020  2684.570068  24782.30078   \n",
      "4  2017-12-22  41.320255  6959.959961  12797.40039  2683.340088  24754.09961   \n",
      "\n",
      "                                            Headline  \n",
      "0  France saves Marquis de Sade’s 120 Days of Sod...  \n",
      "1  House prices to fall in London and south-east ...  \n",
      "2  Hedge funds fail to stop 'billion-dollar brain...  \n",
      "3  Guardian Brexit watch  \\n\\n\\n  Brexit helped p...  \n",
      "4  Jim Cramer broke down why owning fewer stocks ...  \n",
      "datetime64[ns]\n",
      "        Date       AAPL       NASDAQ          NYA        SP500          DJI  \\\n",
      "0 2017-12-18  41.653164  6994.759766  12785.79980  2690.159912  24792.19922   \n",
      "1 2017-12-19  41.209293  6963.850098  12747.50000  2681.469971  24754.69922   \n",
      "2 2017-12-20  41.164425  6960.959961  12747.59961  2679.250000  24726.69922   \n",
      "3 2017-12-21  41.320255  6965.359863  12800.20020  2684.570068  24782.30078   \n",
      "4 2017-12-22  41.320255  6959.959961  12797.40039  2683.340088  24754.09961   \n",
      "\n",
      "                                            Headline  \n",
      "0  France saves Marquis de Sade’s 120 Days of Sod...  \n",
      "1  House prices to fall in London and south-east ...  \n",
      "2  Hedge funds fail to stop 'billion-dollar brain...  \n",
      "3  Guardian Brexit watch  \\n\\n\\n  Brexit helped p...  \n",
      "4  Jim Cramer broke down why owning fewer stocks ...  \n"
     ]
    }
   ],
   "source": [
    "import pandas as pd\n",
    "\n",
    "#load data\n",
    "df = pd.read_csv('stock_n_hl_news.csv')\n",
    "print(\"Shape:\", df.shape)\n",
    "print(df.head())\n",
    "\n",
    "#convert 'Date' to datetime\n",
    "df['Date'] = pd.to_datetime(df['Date'])\n",
    "print(df.dtypes['Date'])\n",
    "print(df.head())"
   ]
  },
  {
   "cell_type": "markdown",
   "id": "509b030a",
   "metadata": {},
   "source": [
    "### 2. Market Trend Column:\n",
    "\n",
    "In df, create a column 'Trend'.\n",
    "\n",
    "Convert the feedback scores into a 2-dimensional numpy array (iOS scores as the first\n",
    "dimension, Android scores as the second).\n",
    "\n",
    "Label 'Trend' as 'Bullish' if NASDAQ index is higher than the previous day, 'Bearish'\n",
    "otherwise.\n",
    "\n",
    "Assume 'Bullish' for the first date in the dataset."
   ]
  },
  {
   "cell_type": "code",
   "execution_count": 2,
   "id": "0fa3228b",
   "metadata": {},
   "outputs": [
    {
     "name": "stdout",
     "output_type": "stream",
     "text": [
      "        Date       NASDAQ    Trend\n",
      "0 2017-12-18  6994.759766  Bullish\n",
      "1 2017-12-19  6963.850098  Bearish\n",
      "2 2017-12-20  6960.959961  Bearish\n",
      "3 2017-12-21  6965.359863  Bullish\n",
      "4 2017-12-22  6959.959961  Bearish\n",
      "Trend\n",
      "Bullish    275\n",
      "Bearish    208\n",
      "Name: count, dtype: int64\n"
     ]
    }
   ],
   "source": [
    "import numpy as np\n",
    "\n",
    "#generate trend\n",
    "df['Trend'] = np.where(df['NASDAQ'].diff() > 0, 'Bullish', 'Bearish')\n",
    "#set the first available day to Bullish\n",
    "df.loc[0, 'Trend'] = 'Bullish'\n",
    "\n",
    "#verify\n",
    "print(df[['Date','NASDAQ','Trend']].head())\n",
    "print(df['Trend'].value_counts())"
   ]
  },
  {
   "cell_type": "markdown",
   "id": "c7b5ddc6",
   "metadata": {},
   "source": [
    "### Interpretation: Feedback Analysis\n",
    "\n",
    "The t-test compares feedback scores between iOS and Android users. \n",
    "\n",
    "- Test Statistic: 1.9033888211703986\n",
    "- P-value: 0.05756609386358278\n",
    "\n",
    "Since the p-value is greater than 0.05, we fail to reject the null hypothesis. This means we **do not have sufficient evidence** to say that average customer satisfaction is significantly different between iOS and Android apps."
   ]
  },
  {
   "cell_type": "markdown",
   "id": "1e5f8743-0879-4d3d-b095-907778d1986c",
   "metadata": {},
   "source": [
    "### 3. Sales Performance Analysis (sales_analysis function): \n",
    "Compare sales before and after a major marketing campaign (March 1-31, 2023).\n",
    "\n",
    "Use an appropriate T-Test to assess the campaign's impact on sales.\n",
    "\n",
    "Return the t-test statistic and the p-value and print the returned values.\n",
    "\n",
    "Interpret the result, i.e., if a significant impact is found based on the p-value;"
   ]
  },
  {
   "cell_type": "code",
   "execution_count": 8,
   "id": "e66c40b5",
   "metadata": {},
   "outputs": [
    {
     "name": "stdout",
     "output_type": "stream",
     "text": [
      "Sales analysis t-test statistic: 0.16642710322927962\n",
      "Sales analysis pvalue: 0.8679489234386756\n"
     ]
    }
   ],
   "source": [
    "#function: Sales Analysis\n",
    "def sales_analysis(df_sales):\n",
    "    #split data before and after March 2023 campaign\n",
    "    before = df_sales[df_sales['date'] < '2023-03-01']['sales'].values\n",
    "    after = df_sales[df_sales['date'] > '2023-03-31']['sales'].values\n",
    "\n",
    "    #perform independent t-test\n",
    "    statistic, p_val = stats.ttest_ind(before, after, equal_var=False)\n",
    "\n",
    "    print(\"Sales analysis t-test statistic:\", statistic)\n",
    "    print(\"Sales analysis pvalue:\", p_val)\n",
    "\n",
    "    return statistic, p_val\n",
    "\n",
    "#run sales analysis\n",
    "sales_stat, sales_p = sales_analysis(sales_df)"
   ]
  },
  {
   "cell_type": "markdown",
   "id": "953d2987",
   "metadata": {},
   "source": [
    "### Interpretation: Sales Analysis\n",
    "\n",
    "The t-test compares sales figures before and after the marketing campaign in March 2023.\n",
    "\n",
    "- Test Statistic: 0.16642710322927962\n",
    "- P-value: 0.8679489234386756\n",
    "\n",
    "Since the p-value is significantly greater than 0.05, we fail to reject the null hypothesis. This means we **do not have sufficient evidence** that the marketing campaign had a measurable impact on sales."
   ]
  },
  {
   "cell_type": "markdown",
   "id": "c184125e-2c2a-42cb-9b31-03174d05a96d",
   "metadata": {},
   "source": [
    "### 4. Seasonal Sales Analysis (seasonal_analysis function):\n",
    "Examine sales differences between summer (June-August) and winter\n",
    "(December-February).\n",
    "\n",
    "Apply a T-Test to assess if these variations are statistically significant.\n",
    "\n",
    "Return the t-test statistic and the p-value and print the returned values.\n",
    "\n",
    "Interpret the result, i.e., if significant seasonal variations exists based on the p-value."
   ]
  },
  {
   "cell_type": "code",
   "execution_count": 4,
   "id": "e8847512",
   "metadata": {},
   "outputs": [
    {
     "name": "stdout",
     "output_type": "stream",
     "text": [
      "Seasonal analysis t-test statistic: 0.09956961638905915\n",
      "Seasonal analysis pvalue: 0.9207644588060664\n"
     ]
    }
   ],
   "source": [
    "#function: Seasonal Sales Analysis\n",
    "def seasonal_analysis(df_sales):\n",
    "    #define summer and winter months\n",
    "    summer_months = [6, 7, 8]\n",
    "    winter_months = [12, 1, 2]\n",
    "\n",
    "    summer_sales = df_sales[df_sales['date'].dt.month.isin(summer_months)]['sales'].values\n",
    "    winter_sales = df_sales[df_sales['date'].dt.month.isin(winter_months)]['sales'].values\n",
    "\n",
    "    #perform independent t-test\n",
    "    statistic, p_val = stats.ttest_ind(summer_sales, winter_sales, equal_var=False)\n",
    "\n",
    "    print(\"Seasonal analysis t-test statistic:\", statistic)\n",
    "    print(\"Seasonal analysis pvalue:\", p_val)\n",
    "\n",
    "    return statistic, p_val\n",
    "\n",
    "#run seasonal analysis\n",
    "seasonal_stat, seasonal_p = seasonal_analysis(sales_df)\n",
    "\n"
   ]
  },
  {
   "cell_type": "markdown",
   "id": "68187ce4",
   "metadata": {},
   "source": [
    "### Interpretation: Seasonal Sales Analysis\n",
    "\n",
    "This t-test compares sales between the summer months (June-August) and winter months (December-February).\n",
    "\n",
    "- Test Statistic: 0.09956961638905915\n",
    "- P-value: 0.9207644588060664\n",
    "\n",
    "Since the p-value is greater than 0.05, we fail to reject the null hypothesis. This means we **do not have sufficient evidence** of seasonal variation in sales between summer and winter."
   ]
  },
  {
   "cell_type": "markdown",
   "id": "18277abb",
   "metadata": {},
   "source": [
    "### 5. Feedback Consistency Analysis (consistency_analysis function):\n",
    "Assess if monthly feedback scores are consistent across January, May, September, and\n",
    "December.\n",
    "\n",
    "Use one-way ANOVA to test for significant differences in feedback scores across these\n",
    "months.\n",
    "\n",
    "Return the statistic and the p-value and print the returned values.\n",
    "\n",
    "Interpret the result, i.e., if the difference are significant based on p-value.\n"
   ]
  },
  {
   "cell_type": "code",
   "execution_count": 5,
   "id": "4b1c4fd8",
   "metadata": {},
   "outputs": [
    {
     "name": "stdout",
     "output_type": "stream",
     "text": [
      "Feedback consistency ANOVA statistic: 0.3146823675455494\n",
      "Feedback consistency pvalue: 0.8147473590881886\n"
     ]
    }
   ],
   "source": [
    "#function Feedback Consistency Analysis\n",
    "def consistency_analysis(df_feedback):\n",
    "    #filter months of interest\n",
    "    df_feedback['month'] = df_feedback['date'].dt.month\n",
    "    selected_months = {1: 'Jan', 5: 'May', 9: 'Sep', 12: 'Dec'}\n",
    "    filtered = df_feedback[df_feedback['month'].isin(selected_months.keys())]\n",
    "\n",
    "    # Group feedback scores by month\n",
    "    jan = filtered[filtered['month'] == 1]['feedback_score'].values\n",
    "    may = filtered[filtered['month'] == 5]['feedback_score'].values\n",
    "    sep = filtered[filtered['month'] == 9]['feedback_score'].values\n",
    "    dec = filtered[filtered['month'] == 12]['feedback_score'].values\n",
    "\n",
    "    #perform one-way ANOVA\n",
    "    statistic, p_val = stats.f_oneway(jan, may, sep, dec)\n",
    "\n",
    "    print(\"Feedback consistency ANOVA statistic:\", statistic)\n",
    "    print(\"Feedback consistency pvalue:\", p_val)\n",
    "\n",
    "    return statistic, p_val\n",
    "\n",
    "#run consistency analysis\n",
    "consistency_stat, consistency_p = consistency_analysis(feedback_df)\n",
    "\n"
   ]
  },
  {
   "cell_type": "markdown",
   "id": "4f29f30c",
   "metadata": {},
   "source": [
    "### Interpretation: Feedback Consistency Analysis\n",
    "\n",
    "The one-way ANOVA compares customer feedback scores across the months of January, May, September, and December.\n",
    "\n",
    "- ANOVA Statistic: 0.3146823675455494\n",
    "- P-value: 0.8147473590881886\n",
    "\n",
    "Since the p-value is greater than 0.05, we conclude that there is no statistically significant difference in average feedback scores across these months."
   ]
  },
  {
   "cell_type": "markdown",
   "id": "e0a46c1f",
   "metadata": {},
   "source": [
    "### 6. Sales and Feedback Correlation Analysis (corr_analysis function):\n",
    "Investigate if high customer feedback correlates with increased sales.\n",
    "\n",
    "Merge feedback and sales data, categorizing sales into high and low feedback scores.\n",
    "\n",
    "Perform a T-Test to compare sales in months with high vs. low feedback scores.\n",
    "\n",
    "Return the statistic and the p-value and print the returned values.\n",
    "\n",
    "Interpret the result, i.e., if correlation is significant based on the p-value."
   ]
  },
  {
   "cell_type": "code",
   "execution_count": null,
   "id": "55ae4778",
   "metadata": {},
   "outputs": [
    {
     "name": "stdout",
     "output_type": "stream",
     "text": [
      "Correlation analysis t-test statistic: 0.5288478099451596\n",
      "Correlation analysis pvalue: 0.5978430534511507\n"
     ]
    }
   ],
   "source": [
    "#function: Sales and Feedback Correlation Analysis\n",
    "def corr_analysis(df_feedback, df_sales):\n",
    "    #aggregate feedback scores by date\n",
    "    avg_feedback = df_feedback.groupby('date')['feedback_score'].mean().reset_index()\n",
    "    avg_feedback.columns = ['date', 'avg_feedback_score']\n",
    "\n",
    "    #aggregate sales by date\n",
    "    total_sales = df_sales.groupby('date')['sales'].sum().reset_index()\n",
    "\n",
    "    #merge both datasets on date\n",
    "    merged = pd.merge(avg_feedback, total_sales, on='date')\n",
    "\n",
    "    #label high vs. low feedback\n",
    "    threshold = merged['avg_feedback_score'].median()\n",
    "    high_feedback = merged[merged['avg_feedback_score'] > threshold]['sales']\n",
    "    low_feedback = merged[merged['avg_feedback_score'] <= threshold]['sales']\n",
    "\n",
    "    #perform t-test\n",
    "    statistic, p_val = stats.ttest_ind(high_feedback, low_feedback, equal_var=False)\n",
    "\n",
    "    print(\"Correlation analysis t-test statistic:\", statistic)\n",
    "    print(\"Correlation analysis pvalue:\", p_val)\n",
    "\n",
    "    return statistic, p_val\n",
    "\n",
    "#run correlation analysis\n",
    "corr_stat, corr_p = corr_analysis(feedback_df, sales_df)\n"
   ]
  },
  {
   "cell_type": "markdown",
   "id": "b6fba16a",
   "metadata": {},
   "source": [
    "### Interpretation: Sales and Feedback Correlation Analysis\n",
    "\n",
    "This t-test evaluates whether higher average feedback scores are associated with significantly different sales performance.\n",
    "\n",
    "- Test Statistic: 0.5288478099451596\n",
    "- P-value: 0.5978430534511507\n",
    "\n",
    "Since the p-value is greater than 0.05, we fail to reject the null hypothesis. There is **no significant evidence** that higher feedback scores correlate with higher sales."
   ]
  }
 ],
 "metadata": {
  "kernelspec": {
   "display_name": "base",
   "language": "python",
   "name": "python3"
  },
  "language_info": {
   "codemirror_mode": {
    "name": "ipython",
    "version": 3
   },
   "file_extension": ".py",
   "mimetype": "text/x-python",
   "name": "python",
   "nbconvert_exporter": "python",
   "pygments_lexer": "ipython3",
   "version": "3.12.7"
  }
 },
 "nbformat": 4,
 "nbformat_minor": 5
}
