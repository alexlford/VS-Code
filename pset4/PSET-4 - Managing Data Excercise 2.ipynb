{
 "cells": [
  {
   "cell_type": "markdown",
   "id": "d39ba724",
   "metadata": {},
   "source": [
    "<div style=\"background-color: lightblue;border: 2px solid gray;\">\n",
    "    <h2 style =\"text-align:center; padding-top:5px;\"> CS 101 - Foundation of Data Science and Engineering  </h2><br>\n",
    "    <p style=\"text-align:center;padding:5px; fontt-size:14px\"><b> PSET-4 - Managing Data Excercise-2 (100 pts)<b></p> <br>\n",
    "</div>"
   ]
  },
  {
   "cell_type": "markdown",
   "id": "048c845d",
   "metadata": {},
   "source": [
    "### This is an individual assignment. No collaboration is allowed."
   ]
  },
  {
   "cell_type": "markdown",
   "id": "dabaa058",
   "metadata": {},
   "source": [
    "### Assignment Goal:\n",
    " \n",
    "**Part-1 : Explore Pandas, perform data cleaning using Pandas.**\n",
    "\n",
    "**Part-2 : Generate random sample data in SQL**\n",
    "\n",
    "**Part-3 : Practice writing SQL queries**\n",
    "\n",
    "\n",
    "    "
   ]
  },
  {
   "cell_type": "markdown",
   "id": "2ad46be2",
   "metadata": {},
   "source": [
    "**Start by reviewing the provided file nj_teachers_salaries_pset4.csv. Examine the column names, data types of this data file. After reviewing this file please provide your solutions for the questions below.**\n",
    "\n",
    "**Note: The file has identical columns that you worked on PSET-3, however all the data are not identical**"
   ]
  },
  {
   "cell_type": "markdown",
   "id": "7d5d0f1b",
   "metadata": {},
   "source": [
    "**Resources:**<br>\n",
    "**https://pandas.pydata.org/docs/reference/frame.html**<br>\n",
    "**Module 4 & Module 5 Lectures**\n"
   ]
  },
  {
   "cell_type": "markdown",
   "id": "add9d649",
   "metadata": {},
   "source": [
    "**Please feel free to create new cells in your notebook for completing the assignment.**"
   ]
  },
  {
   "cell_type": "markdown",
   "id": "e5709bcb",
   "metadata": {},
   "source": [
    "# Part-1 (60 points)"
   ]
  },
  {
   "cell_type": "markdown",
   "id": "8fe347e3",
   "metadata": {},
   "source": [
    "**In this part you will be working with Pandas to explore and clean data. For each of the questions, please make sure that you show your work on what was done in each step.**\n",
    "\n",
    "**For Example if you drop rows, be sure to show the how many rows were dropped at each step. You can use \n",
    "df.shape to show before and after count.**\n",
    "\n",
    "**For Questions 3-5 that involve modifying your values, you need to show us few rows where the modification was done. \n",
    "As an example you are looking at df['experience_total'] column and you discover that the column has values that are not numerical. You go ahead and set the values as np.NAN.  You should show that those values were indeed set  as nan. You can use print statements or simply create a new cell and show some example rows. Please display relevant rows and not the full dataframe.**"
   ]
  },
  {
   "cell_type": "code",
   "execution_count": null,
   "id": "a291e796",
   "metadata": {},
   "outputs": [],
   "source": []
  },
  {
   "cell_type": "code",
   "execution_count": 2,
   "id": "a8464d6c",
   "metadata": {},
   "outputs": [],
   "source": [
    "import pandas as pd\n",
    "import numpy as np\n",
    "import mysql.connector as sq"
   ]
  },
  {
   "cell_type": "markdown",
   "id": "61d3ca40",
   "metadata": {},
   "source": [
    "## Question-1 (1 pts)"
   ]
  },
  {
   "cell_type": "markdown",
   "id": "3e434b31",
   "metadata": {},
   "source": [
    "### Create a dataframe called df using the provided csv file nj_teachers_salaries_pset4.csv. Use df.info() to get the information about the columns, non-null values, and data type inferred by Pandas for each column. \n",
    "\n",
    "**Pandas tries to infer the data type of each column. However if you have a numerical column, with an invalid value (such as a string), it will infer it as an object. String values are inferred as object data type.**"
   ]
  },
  {
   "cell_type": "code",
   "execution_count": 3,
   "id": "327c0e96",
   "metadata": {},
   "outputs": [
    {
     "name": "stdout",
     "output_type": "stream",
     "text": [
      "<class 'pandas.core.frame.DataFrame'>\n",
      "RangeIndex: 100005 entries, 0 to 100004\n",
      "Data columns (total 16 columns):\n",
      " #   Column               Non-Null Count   Dtype  \n",
      "---  ------               --------------   -----  \n",
      " 0   id                   99998 non-null   float64\n",
      " 1   last_name            100003 non-null  object \n",
      " 2   first_name           100003 non-null  object \n",
      " 3   county               100003 non-null  object \n",
      " 4   district             100003 non-null  object \n",
      " 5   school               100003 non-null  object \n",
      " 6   primary_job          100003 non-null  object \n",
      " 7   fte                  100003 non-null  object \n",
      " 8   salary               99983 non-null   object \n",
      " 9   certificate          100003 non-null  object \n",
      " 10  subcategory          100003 non-null  object \n",
      " 11  teaching_route       100003 non-null  object \n",
      " 12  highly_qualified     100003 non-null  object \n",
      " 13  experience_district  100003 non-null  object \n",
      " 14  experience_nj        100003 non-null  object \n",
      " 15  experience_total     99983 non-null   object \n",
      "dtypes: float64(1), object(15)\n",
      "memory usage: 12.2+ MB\n"
     ]
    },
    {
     "name": "stderr",
     "output_type": "stream",
     "text": [
      "/var/folders/14/m1yk_rm10nx5rd9pwp0n6qtc0000gn/T/ipykernel_1208/2370806246.py:1: DtypeWarning: Columns (7,8,13,14,15) have mixed types. Specify dtype option on import or set low_memory=False.\n",
      "  df = pd.read_csv(\"nj_teachers_salaries_pset4.csv\")\n"
     ]
    }
   ],
   "source": [
    "df = pd.read_csv(\"nj_teachers_salaries_pset4.csv\")\n",
    "df.info()"
   ]
  },
  {
   "cell_type": "markdown",
   "id": "bee0fe64",
   "metadata": {},
   "source": [
    "## Question-2 (1 pts)"
   ]
  },
  {
   "cell_type": "markdown",
   "id": "2028011c",
   "metadata": {},
   "source": [
    "### Drop rows that have all values as NaN. (Recall from lecture that you have to set the parameter how='all') "
   ]
  },
  {
   "cell_type": "code",
   "execution_count": 4,
   "id": "0cf108bd",
   "metadata": {},
   "outputs": [
    {
     "name": "stdout",
     "output_type": "stream",
     "text": [
      "Before dropping rows that have values as NaN: (100005, 16)\n",
      "After dropping rows that have values as NaN: (100003, 16)\n"
     ]
    }
   ],
   "source": [
    "print(\"Before dropping rows that have values as NaN:\", df.shape)\n",
    "df.dropna(how='all', inplace=True)\n",
    "print(\"After dropping rows that have values as NaN:\", df.shape)"
   ]
  },
  {
   "cell_type": "markdown",
   "id": "8d34185d",
   "metadata": {
    "jp-MarkdownHeadingCollapsed": true
   },
   "source": [
    "## Question-3 (20 pts)"
   ]
  },
  {
   "cell_type": "markdown",
   "id": "2d614e58",
   "metadata": {},
   "source": [
    "### Numerical Columns :\n",
    "\n",
    "### Identify numerical columns excluding id column, remove any invalid characters from numerical columns by first setting it to np.NAN , and finally drop rows containing NaN values. (5))\n",
    "\n",
    "### Set the correct data type for each of the numerical columns (i.e. int , float) (1)\n",
    "\n",
    "## Check the id column. Set the correct id number for rows that are NA/NaN. Set the correct dtype.(5)\n",
    "\n",
    "### At the end of this step your dataframe should not contain any invalid values for numerical values. Only invalid/missing values should have been dropped. (5)\n",
    "\n",
    "\n",
    "### Please be sure to show your work, meaning , show few example rows that were actually modified. (4)   \n",
    "\n",
    "### Note : do not reset the index of the dataframe at any point. \n"
   ]
  },
  {
   "cell_type": "code",
   "execution_count": 5,
   "id": "5171405b-8861-4e0e-a7d6-b8a6d6b362cb",
   "metadata": {},
   "outputs": [
    {
     "name": "stdout",
     "output_type": "stream",
     "text": [
      "A few rows before cleaning numeric columns:\n"
     ]
    },
    {
     "data": {
      "text/html": [
       "<div>\n",
       "<style scoped>\n",
       "    .dataframe tbody tr th:only-of-type {\n",
       "        vertical-align: middle;\n",
       "    }\n",
       "\n",
       "    .dataframe tbody tr th {\n",
       "        vertical-align: top;\n",
       "    }\n",
       "\n",
       "    .dataframe thead th {\n",
       "        text-align: right;\n",
       "    }\n",
       "</style>\n",
       "<table border=\"1\" class=\"dataframe\">\n",
       "  <thead>\n",
       "    <tr style=\"text-align: right;\">\n",
       "      <th></th>\n",
       "      <th>fte</th>\n",
       "      <th>salary</th>\n",
       "      <th>experience_district</th>\n",
       "      <th>experience_nj</th>\n",
       "      <th>experience_total</th>\n",
       "    </tr>\n",
       "  </thead>\n",
       "  <tbody>\n",
       "    <tr>\n",
       "      <th>0</th>\n",
       "      <td>1.0</td>\n",
       "      <td>98774</td>\n",
       "      <td>9.0</td>\n",
       "      <td>9.0</td>\n",
       "      <td>9</td>\n",
       "    </tr>\n",
       "    <tr>\n",
       "      <th>1</th>\n",
       "      <td>1.0</td>\n",
       "      <td>118415</td>\n",
       "      <td>13.0</td>\n",
       "      <td>13.0</td>\n",
       "      <td>13</td>\n",
       "    </tr>\n",
       "    <tr>\n",
       "      <th>2</th>\n",
       "      <td>1.0</td>\n",
       "      <td>57919</td>\n",
       "      <td>7.0</td>\n",
       "      <td>7.0</td>\n",
       "      <td>7</td>\n",
       "    </tr>\n",
       "    <tr>\n",
       "      <th>3</th>\n",
       "      <td>0.8</td>\n",
       "      <td>107746</td>\n",
       "      <td>26.0</td>\n",
       "      <td>26.0</td>\n",
       "      <td>26</td>\n",
       "    </tr>\n",
       "    <tr>\n",
       "      <th>4</th>\n",
       "      <td>0.8</td>\n",
       "      <td>54277</td>\n",
       "      <td>5.0</td>\n",
       "      <td>5.0</td>\n",
       "      <td>5</td>\n",
       "    </tr>\n",
       "    <tr>\n",
       "      <th>5</th>\n",
       "      <td>0.5</td>\n",
       "      <td>82772</td>\n",
       "      <td>1.0</td>\n",
       "      <td>20.0</td>\n",
       "      <td>20</td>\n",
       "    </tr>\n",
       "    <tr>\n",
       "      <th>6</th>\n",
       "      <td>0.8</td>\n",
       "      <td>51379</td>\n",
       "      <td>39.0</td>\n",
       "      <td>39.0</td>\n",
       "      <td>39</td>\n",
       "    </tr>\n",
       "  </tbody>\n",
       "</table>\n",
       "</div>"
      ],
      "text/plain": [
       "   fte  salary experience_district experience_nj experience_total\n",
       "0  1.0   98774                 9.0           9.0                9\n",
       "1  1.0  118415                13.0          13.0               13\n",
       "2  1.0   57919                 7.0           7.0                7\n",
       "3  0.8  107746                26.0          26.0               26\n",
       "4  0.8   54277                 5.0           5.0                5\n",
       "5  0.5   82772                 1.0          20.0               20\n",
       "6  0.8   51379                39.0          39.0               39"
      ]
     },
     "metadata": {},
     "output_type": "display_data"
    }
   ],
   "source": [
    "num_cols = num_cols = [\"fte\", \"salary\", \"experience_district\", \"experience_nj\", \"experience_total\"]\n",
    "print(\"A few rows before cleaning numeric columns:\")\n",
    "display(df[num_cols].head(7))"
   ]
  },
  {
   "cell_type": "code",
   "execution_count": 6,
   "id": "8b389199-e49c-4bf1-8c04-7638cf18aef4",
   "metadata": {},
   "outputs": [
    {
     "name": "stdout",
     "output_type": "stream",
     "text": [
      "Before dropping invalid numeric rows: (100003, 16)\n",
      "After dropping invalid numeric rows: (99959, 16)\n"
     ]
    }
   ],
   "source": [
    "for col in num_cols:\n",
    "    df[col] = pd.to_numeric(df[col], errors='coerce') \n",
    "\n",
    "before_drop = df.shape\n",
    "df.dropna(subset=num_cols, inplace=True)\n",
    "after_drop = df.shape\n",
    "\n",
    "print(\"Before dropping invalid numeric rows:\", before_drop)\n",
    "print(\"After dropping invalid numeric rows:\", after_drop)"
   ]
  },
  {
   "cell_type": "code",
   "execution_count": 7,
   "id": "032eab69-ce70-490b-9655-4d3b3f7100db",
   "metadata": {},
   "outputs": [],
   "source": [
    "df[\"experience_total\"] = df[\"experience_total\"].astype(int)\n",
    "df[\"experience_district\"] = df[\"experience_district\"].astype(int)\n",
    "df[\"experience_nj\"] = df[\"experience_nj\"].astype(int)\n",
    "df[\"salary\"] = df[\"salary\"].astype(float) \n",
    "df[\"fte\"] = df[\"fte\"].astype(float)\n"
   ]
  },
  {
   "cell_type": "code",
   "execution_count": 8,
   "id": "13a48ba9-1a68-4397-9003-9c5f20f1042f",
   "metadata": {},
   "outputs": [
    {
     "name": "stdout",
     "output_type": "stream",
     "text": [
      "Number of rows with missing id: 5\n",
      "Rows with missing id before fixing:\n"
     ]
    },
    {
     "data": {
      "text/html": [
       "<div>\n",
       "<style scoped>\n",
       "    .dataframe tbody tr th:only-of-type {\n",
       "        vertical-align: middle;\n",
       "    }\n",
       "\n",
       "    .dataframe tbody tr th {\n",
       "        vertical-align: top;\n",
       "    }\n",
       "\n",
       "    .dataframe thead th {\n",
       "        text-align: right;\n",
       "    }\n",
       "</style>\n",
       "<table border=\"1\" class=\"dataframe\">\n",
       "  <thead>\n",
       "    <tr style=\"text-align: right;\">\n",
       "      <th></th>\n",
       "      <th>id</th>\n",
       "    </tr>\n",
       "  </thead>\n",
       "  <tbody>\n",
       "    <tr>\n",
       "      <th>30000</th>\n",
       "      <td>NaN</td>\n",
       "    </tr>\n",
       "    <tr>\n",
       "      <th>30001</th>\n",
       "      <td>NaN</td>\n",
       "    </tr>\n",
       "    <tr>\n",
       "      <th>30002</th>\n",
       "      <td>NaN</td>\n",
       "    </tr>\n",
       "    <tr>\n",
       "      <th>30003</th>\n",
       "      <td>NaN</td>\n",
       "    </tr>\n",
       "    <tr>\n",
       "      <th>30004</th>\n",
       "      <td>NaN</td>\n",
       "    </tr>\n",
       "  </tbody>\n",
       "</table>\n",
       "</div>"
      ],
      "text/plain": [
       "       id\n",
       "30000 NaN\n",
       "30001 NaN\n",
       "30002 NaN\n",
       "30003 NaN\n",
       "30004 NaN"
      ]
     },
     "metadata": {},
     "output_type": "display_data"
    }
   ],
   "source": [
    "missing_id = df[\"id\"].isna()\n",
    "print(\"Number of rows with missing id:\", missing_id.sum())\n",
    "\n",
    "if missing_id.sum() > 0:\n",
    "    print(\"Rows with missing id before fixing:\")\n",
    "    display(df.loc[missing_id, [\"id\"]].head(5))"
   ]
  },
  {
   "cell_type": "code",
   "execution_count": 9,
   "id": "500d6894",
   "metadata": {},
   "outputs": [],
   "source": [
    "missing_ids = df.index[df[\"id\"].isna()].tolist()\n",
    "for x in missing_ids:\n",
    "    # Identify the row above\n",
    "    x_above = x - 1\n",
    "    id_above = df.at[x_above, \"id\"]\n",
    "    df.at[x, \"id\"] = int(id_above + 1)"
   ]
  },
  {
   "cell_type": "code",
   "execution_count": 10,
   "id": "32179431-d275-4c55-87fd-8c4617ab6a30",
   "metadata": {},
   "outputs": [
    {
     "name": "stdout",
     "output_type": "stream",
     "text": [
      "Rows that had missing ID after fixing:\n"
     ]
    },
    {
     "data": {
      "text/html": [
       "<div>\n",
       "<style scoped>\n",
       "    .dataframe tbody tr th:only-of-type {\n",
       "        vertical-align: middle;\n",
       "    }\n",
       "\n",
       "    .dataframe tbody tr th {\n",
       "        vertical-align: top;\n",
       "    }\n",
       "\n",
       "    .dataframe thead th {\n",
       "        text-align: right;\n",
       "    }\n",
       "</style>\n",
       "<table border=\"1\" class=\"dataframe\">\n",
       "  <thead>\n",
       "    <tr style=\"text-align: right;\">\n",
       "      <th></th>\n",
       "      <th>id</th>\n",
       "    </tr>\n",
       "  </thead>\n",
       "  <tbody>\n",
       "    <tr>\n",
       "      <th>30000</th>\n",
       "      <td>30000</td>\n",
       "    </tr>\n",
       "    <tr>\n",
       "      <th>30001</th>\n",
       "      <td>30001</td>\n",
       "    </tr>\n",
       "    <tr>\n",
       "      <th>30002</th>\n",
       "      <td>30002</td>\n",
       "    </tr>\n",
       "    <tr>\n",
       "      <th>30003</th>\n",
       "      <td>30003</td>\n",
       "    </tr>\n",
       "    <tr>\n",
       "      <th>30004</th>\n",
       "      <td>30004</td>\n",
       "    </tr>\n",
       "  </tbody>\n",
       "</table>\n",
       "</div>"
      ],
      "text/plain": [
       "          id\n",
       "30000  30000\n",
       "30001  30001\n",
       "30002  30002\n",
       "30003  30003\n",
       "30004  30004"
      ]
     },
     "metadata": {},
     "output_type": "display_data"
    }
   ],
   "source": [
    "df[\"id\"] = df[\"id\"].astype(int)\n",
    "print(\"Rows that had missing ID after fixing:\")\n",
    "fixed_ids = [x for x in missing_ids if x in df.index]\n",
    "display(df.loc[fixed_ids, [\"id\"]].head(5))"
   ]
  },
  {
   "cell_type": "markdown",
   "id": "f624f3e6",
   "metadata": {},
   "source": [
    "## Question-4 (5 pts)"
   ]
  },
  {
   "cell_type": "markdown",
   "id": "1db700d9",
   "metadata": {},
   "source": [
    "### String Columns:\n",
    "\n",
    "### Identify string/object columns. Remove any leading and trailing spaces. This can be applied to all string columns (3)\n",
    "### Show example rows/columns where leading and trailing spaces were removed.Hint : first_name,last_name have data values with leading and trailing spaces. Show at least 2 such examples where data values were modified for these columns. (2)\n",
    "\n",
    "### No rows should be dropped.\n",
    "\n",
    "\n"
   ]
  },
  {
   "cell_type": "code",
   "execution_count": 11,
   "id": "75a36ec1",
   "metadata": {},
   "outputs": [
    {
     "name": "stdout",
     "output_type": "stream",
     "text": [
      "\n",
      "BEFORE removing leading/trailing spaces:\n",
      "Examples in column first_name :\n"
     ]
    },
    {
     "data": {
      "text/html": [
       "<div>\n",
       "<style scoped>\n",
       "    .dataframe tbody tr th:only-of-type {\n",
       "        vertical-align: middle;\n",
       "    }\n",
       "\n",
       "    .dataframe tbody tr th {\n",
       "        vertical-align: top;\n",
       "    }\n",
       "\n",
       "    .dataframe thead th {\n",
       "        text-align: right;\n",
       "    }\n",
       "</style>\n",
       "<table border=\"1\" class=\"dataframe\">\n",
       "  <thead>\n",
       "    <tr style=\"text-align: right;\">\n",
       "      <th></th>\n",
       "      <th>first_name</th>\n",
       "    </tr>\n",
       "  </thead>\n",
       "  <tbody>\n",
       "    <tr>\n",
       "      <th>40000</th>\n",
       "      <td>Christopher</td>\n",
       "    </tr>\n",
       "    <tr>\n",
       "      <th>40001</th>\n",
       "      <td>Angela</td>\n",
       "    </tr>\n",
       "  </tbody>\n",
       "</table>\n",
       "</div>"
      ],
      "text/plain": [
       "          first_name\n",
       "40000   Christopher \n",
       "40001        Angela "
      ]
     },
     "metadata": {},
     "output_type": "display_data"
    }
   ],
   "source": [
    "string_cols = df.select_dtypes(include=\"object\").columns\n",
    "example_cols = [\"first_name\"]  #using the hint\n",
    "print(\"\\nBEFORE removing leading/trailing spaces:\")\n",
    "for col in example_cols:\n",
    "    if col in string_cols:\n",
    "        spaces = df[col].str.match(r\"^\\s+.*|.*\\s+$\", na=False)\n",
    "        if spaces.any():\n",
    "            print(\"Examples in column\", col,\":\")\n",
    "            display(df.loc[spaces, [col]].head(2))"
   ]
  },
  {
   "cell_type": "code",
   "execution_count": 12,
   "id": "c0e21809-3609-40a0-9178-481a5826024c",
   "metadata": {},
   "outputs": [
    {
     "name": "stdout",
     "output_type": "stream",
     "text": [
      "Examples in column first_name  after cleaning:\n"
     ]
    },
    {
     "data": {
      "text/html": [
       "<div>\n",
       "<style scoped>\n",
       "    .dataframe tbody tr th:only-of-type {\n",
       "        vertical-align: middle;\n",
       "    }\n",
       "\n",
       "    .dataframe tbody tr th {\n",
       "        vertical-align: top;\n",
       "    }\n",
       "\n",
       "    .dataframe thead th {\n",
       "        text-align: right;\n",
       "    }\n",
       "</style>\n",
       "<table border=\"1\" class=\"dataframe\">\n",
       "  <thead>\n",
       "    <tr style=\"text-align: right;\">\n",
       "      <th></th>\n",
       "      <th>first_name</th>\n",
       "    </tr>\n",
       "  </thead>\n",
       "  <tbody>\n",
       "    <tr>\n",
       "      <th>40000</th>\n",
       "      <td>Christopher</td>\n",
       "    </tr>\n",
       "    <tr>\n",
       "      <th>40001</th>\n",
       "      <td>Angela</td>\n",
       "    </tr>\n",
       "  </tbody>\n",
       "</table>\n",
       "</div>"
      ],
      "text/plain": [
       "          first_name\n",
       "40000   Christopher \n",
       "40001        Angela "
      ]
     },
     "metadata": {},
     "output_type": "display_data"
    }
   ],
   "source": [
    "for col in string_cols:\n",
    "    df[col] = df[col].str.strip()\n",
    "\n",
    "   \n",
    "    for col in example_cols:\n",
    "        if col in string_cols:\n",
    "        # Re-check the same rows as before\n",
    "            spaces = df[col].str.match(r\"^\\s+.*|.*\\s+$\", na=False)\n",
    "            if spaces.any():\n",
    "                print(\"Examples in column\",col,\" after cleaning:\")\n",
    "                display(df.loc[spaces, [col]].head(2))"
   ]
  },
  {
   "cell_type": "markdown",
   "id": "6f832694",
   "metadata": {},
   "source": [
    "## Question-5 (20 pts)"
   ]
  },
  {
   "cell_type": "markdown",
   "id": "06952cce",
   "metadata": {},
   "source": [
    "### Additional Cleaning - String Column :\n",
    "\n",
    "### Perform additional cleaning on string columns. Remove any special/invalid characters from the string columns.\n",
    "\n",
    "### Example :\n",
    "### df['primary_job'] contains a value 'Family & Consumer Sciences â€“ Apparel, Textiles And Interiors'.\n",
    "\n",
    "### The special character should be removed to give the value 'Family & Consumer Sciences  Apparel, Textiles And Interiors' (2.5 pts)\n",
    "\n",
    "\n",
    "### Perform data cleaning on at least 3 string columns. You will have to identify data values in your string columns, and remove any special characters. (7.5) pts\n",
    "\n",
    "### You should try to avoid setting string columns to np.NAN , and dropping it. However, it is ok if you set some rows to np.NAN and drop it for which values are completely invalid. In the end you should have approximately the same number of rows that you had after finishing Question 3. \n",
    "\n",
    "### We are not looking for a perfect solution. The data may still consist of invalid values. We are more interested in seeing how you have applied your learning to this assignment. \n",
    "\n",
    "\n",
    "### In all cases please show your work, meaning show us few example rows/columns where the data values were actually modified. (10 pts)\n",
    "\n",
    "### Note : In general letters, numbers, punctuations , & , /, \\, () , - , :, s'_,.,?!&/-:#@   are considered valid. You can choose to include more characters.  However, for first name and last name, teaching_route, subcategory you will want to choose only specific characters to be considered valid. \n"
   ]
  },
  {
   "cell_type": "code",
   "execution_count": 13,
   "id": "5f8858c1",
   "metadata": {},
   "outputs": [],
   "source": [
    "allowed_chars = set(\"abcdefghijklmnopqrstuvwxyzABCDEFGHIJKLMNOPQRSTUVWXYZ0123456789&/()-:'_.,?!@# \"\"\\\\\")\n",
    "def remove_special_chars(text):\n",
    "    if pd.isna(text):\n",
    "        return text  #NaNs\n",
    "    \n",
    "    cleaned = []\n",
    "    for ch in text:\n",
    "        if ch in allowed_chars:\n",
    "            cleaned.append(ch)\n",
    "        #skip if not in allowed_chars\n",
    "    return \"\".join(cleaned)"
   ]
  },
  {
   "cell_type": "code",
   "execution_count": 19,
   "id": "f2ee3ab4-4f36-42eb-a3d5-a440e28082cf",
   "metadata": {},
   "outputs": [],
   "source": [
    "def has_weird_chars(text):\n",
    "    if pd.isna(text):\n",
    "        return False\n",
    "    return any(ch not in allowed_chars for ch in text)\n",
    "\n",
    "weird_before = {}\n",
    "for col in string_cols:\n",
    "    weird = df[col].apply(has_weird_chars)\n",
    "    if weird.any():\n",
    "        weird_rows = df.loc[weird, [col]]\n",
    "        weird_before[col] = weird_rows\n",
    "        print(\"Examples of rows with special/invalid characters in \", col, \" before cleaning:\")\n",
    "        display(df.loc[weird, [col]].head(3))"
   ]
  },
  {
   "cell_type": "code",
   "execution_count": 14,
   "id": "08c11dbc-3ef5-4cfe-959e-b4236d5a37e1",
   "metadata": {},
   "outputs": [],
   "source": [
    "for col in string_cols:\n",
    "    df[col] = df[col].apply(remove_special_chars)"
   ]
  },
  {
   "cell_type": "code",
   "execution_count": 17,
   "id": "9e277b5b-f270-419c-b10c-b3fc92317c58",
   "metadata": {},
   "outputs": [],
   "source": [
    "for col in string_cols:\n",
    "    if col in weird_before:\n",
    "        same_rows = weird_before[col]\n",
    "        if len(same_rows) > 0:\n",
    "            print(\"Rows in \", col,\" after cleaning:\")\n",
    "            display(df.loc[same_rows.index, [col]].head(3))"
   ]
  },
  {
   "cell_type": "code",
   "execution_count": 18,
   "id": "c312c0e9-dc91-4da4-a1b1-ae34f803e34b",
   "metadata": {},
   "outputs": [],
   "source": [
    "for col in string_cols:\n",
    "    empty = (df[col] == \"\")\n",
    "    if empty.any():\n",
    "        print(empty.sum(),\" rows in \", col, \" became empty after cleaning\")\n",
    "        df.loc[empty, col] = np.nan\n",
    "\n",
    "df.dropna(subset=string_cols, inplace=True)"
   ]
  },
  {
   "cell_type": "markdown",
   "id": "908cf6bb",
   "metadata": {},
   "source": [
    "## Question-6 (1 pts)"
   ]
  },
  {
   "cell_type": "markdown",
   "id": "f97b70b1",
   "metadata": {},
   "source": [
    "### Drop any duplicate rows. Display df.info() to shows the data types, and Non-Null count. \n",
    "https://pandas.pydata.org/docs/reference/api/pandas.DataFrame.drop_duplicates.html"
   ]
  },
  {
   "cell_type": "code",
   "execution_count": 20,
   "id": "bad33d62",
   "metadata": {},
   "outputs": [
    {
     "name": "stdout",
     "output_type": "stream",
     "text": [
      "Before dropping duplicates: (99959, 16)\n",
      "After dropping duplicates: (99959, 16)\n",
      "<class 'pandas.core.frame.DataFrame'>\n",
      "Index: 99959 entries, 0 to 100004\n",
      "Data columns (total 16 columns):\n",
      " #   Column               Non-Null Count  Dtype  \n",
      "---  ------               --------------  -----  \n",
      " 0   id                   99959 non-null  int64  \n",
      " 1   last_name            99959 non-null  object \n",
      " 2   first_name           99959 non-null  object \n",
      " 3   county               99959 non-null  object \n",
      " 4   district             99959 non-null  object \n",
      " 5   school               99959 non-null  object \n",
      " 6   primary_job          99959 non-null  object \n",
      " 7   fte                  99959 non-null  float64\n",
      " 8   salary               99959 non-null  float64\n",
      " 9   certificate          99959 non-null  object \n",
      " 10  subcategory          99959 non-null  object \n",
      " 11  teaching_route       99959 non-null  object \n",
      " 12  highly_qualified     99959 non-null  object \n",
      " 13  experience_district  99959 non-null  int64  \n",
      " 14  experience_nj        99959 non-null  int64  \n",
      " 15  experience_total     99959 non-null  int64  \n",
      "dtypes: float64(2), int64(4), object(10)\n",
      "memory usage: 15.0+ MB\n"
     ]
    }
   ],
   "source": [
    "print(\"Before dropping duplicates:\", df.shape)\n",
    "\n",
    "df.drop_duplicates(inplace=True)\n",
    "\n",
    "print(\"After dropping duplicates:\", df.shape)\n",
    "df.info()\n"
   ]
  },
  {
   "cell_type": "markdown",
   "id": "1f6af6de",
   "metadata": {},
   "source": [
    "## Question -7 "
   ]
  },
  {
   "cell_type": "markdown",
   "id": "d7685921",
   "metadata": {},
   "source": [
    "### Save your cleaned dataframe as  cleaned_data.csv. Be sure to set the parameter index = False to avoid saving the index as an extra column\n",
    "\n",
    "ex:\n",
    "df.to_csv(\"cleaned_data.csv\", index=False)\n",
    "\n"
   ]
  },
  {
   "cell_type": "code",
   "execution_count": 21,
   "id": "8c6c91e3",
   "metadata": {},
   "outputs": [],
   "source": [
    "df.to_csv(\"cleaned_data.csv\", index=False)"
   ]
  },
  {
   "cell_type": "markdown",
   "id": "7a05cbf6",
   "metadata": {},
   "source": [
    "## Question -8"
   ]
  },
  {
   "cell_type": "markdown",
   "id": "af1908b9",
   "metadata": {},
   "source": [
    "### Similar to PSET-3 \n",
    "\n",
    "### 8.1 Connect to your MySql database using your username and password. Name the cursor returned from the mysql connection object as mycursor. (1 pts)\n",
    "\n",
    "\n",
    "### 8.2 Use the same database as PSET-3 nj_state_teachers_salaries, or if you have deleted it create a database called nj_state_teachers_salaries\n",
    "\n",
    "\n",
    "### 8.3 Create a table called teachers_salaries_pset4 with all the columns in your cleaned_data.csv. For this part ,be sure to use appropriate data type for all the columns.  If you are facing difficulty creating a column with Float or bool or int , it is ok to store it as TEXT. (MAX 2 allowed for numerical columns being stored as TEXT) (3 pts)\n",
    "\n",
    "\n",
    "### 8.4 Using LOAD DATA statement (as discussed in Module 4 lectures) load the data from cleaned_data.csv to your table created in 8.3. Use of OPTIONALLY ENCLOSED BY  clause and TERMINATED by clause is recommended. (3 pts)\n",
    "\n",
    "\n",
    "\n"
   ]
  },
  {
   "cell_type": "code",
   "execution_count": 22,
   "id": "0aa0e7ac",
   "metadata": {},
   "outputs": [],
   "source": [
    "mydb = sq.connect(\n",
    "    host=\"localhost\",\n",
    "    user=\"root\",\n",
    "    password=\"idp/dt=[H,p]\",\n",
    "    allow_local_infile=True, \n",
    ")\n",
    "mycursor = mydb.cursor()\n",
    "mycursor.execute(\"CREATE DATABASE IF NOT EXISTS nj_state_teachers_salaries\")\n",
    "mycursor.execute(\"USE nj_state_teachers_salaries\")"
   ]
  },
  {
   "cell_type": "code",
   "execution_count": 23,
   "id": "e3123aa5",
   "metadata": {},
   "outputs": [],
   "source": [
    "drop_table = \"DROP TABLE IF EXISTS teachers_salaries_pset4\"\n",
    "mycursor.execute(drop_table)\n",
    "create_table = \"\"\"\n",
    "CREATE TABLE IF NOT EXISTS teachers_salaries_pset4 (\n",
    "    id INT PRIMARY KEY,\n",
    "    last_name VARCHAR(255),\n",
    "    first_name VARCHAR(255),\n",
    "    county VARCHAR(255),\n",
    "    district VARCHAR(255),\n",
    "    school VARCHAR(255),\n",
    "    primary_job VARCHAR(255),\n",
    "    fte FLOAT,\n",
    "    salary FLOAT,\n",
    "    certificate VARCHAR(255),\n",
    "    subcategory VARCHAR(255),\n",
    "    teaching_route VARCHAR(255),\n",
    "    highly_qualified VARCHAR(255),\n",
    "    experience_district INT,\n",
    "    experience_nj INT,\n",
    "    experience_total INT\n",
    ");\n",
    "\"\"\"\n",
    "mycursor.execute(create_table)"
   ]
  },
  {
   "cell_type": "code",
   "execution_count": 24,
   "id": "a9c02aa0",
   "metadata": {},
   "outputs": [],
   "source": [
    "mycursor.execute(\"SET GLOBAL local_infile = 1\")\n",
    "mydb.commit()\n",
    "load_data = \"\"\"\n",
    "LOAD DATA LOCAL INFILE 'cleaned_data.csv'\n",
    "INTO TABLE teachers_salaries_pset4\n",
    "FIELDS TERMINATED BY ','\n",
    "OPTIONALLY ENCLOSED BY '\"'\n",
    "LINES TERMINATED BY '\\n'\n",
    "IGNORE 1 LINES;\n",
    "\"\"\"\n",
    "mycursor.execute(load_data)\n",
    "mydb.commit()"
   ]
  },
  {
   "cell_type": "code",
   "execution_count": 25,
   "id": "262fc1e9-46f9-46e4-a636-e9a726e1b0f3",
   "metadata": {},
   "outputs": [
    {
     "name": "stdout",
     "output_type": "stream",
     "text": [
      "Number of rows in table: 99959\n"
     ]
    }
   ],
   "source": [
    "mycursor.execute(\"SELECT COUNT(*) FROM teachers_salaries_pset4\")\n",
    "print(f\"Number of rows in table: {mycursor.fetchone()[0]}\")"
   ]
  },
  {
   "cell_type": "markdown",
   "id": "dc7cb666",
   "metadata": {},
   "source": [
    "### Question 9 - For this question you are only required to run the cells. To get credit  your code from Question 8 must have been successfully run, and executed. No credit will be awarded if data was loaded using MySQL workbench. "
   ]
  },
  {
   "cell_type": "markdown",
   "id": "81271dfc",
   "metadata": {},
   "source": [
    "## Question 9 (5 pts)\n",
    "\n",
    "Run the 2 cells below. The code checks if all the data rows and columns were stored in the database. \n",
    "\n",
    "The code below assumes that you named your cursor object as mycursor(As specified in Question-8). If you named it differently, you can rename mycursor to match the variable name.\n"
   ]
  },
  {
   "cell_type": "code",
   "execution_count": 26,
   "id": "4c84b407",
   "metadata": {},
   "outputs": [
    {
     "name": "stdout",
     "output_type": "stream",
     "text": [
      "Number of rows in teachers_salaries table : 99959\n"
     ]
    }
   ],
   "source": [
    "cmd = \"select count(*) from \\\n",
    "                 nj_state_teachers_salaries.teachers_salaries_pset4 \"\n",
    "mycursor.execute(cmd)\n",
    "count = mycursor.fetchone()[0]\n",
    "\n",
    "print(f\"Number of rows in teachers_salaries table : {count}\")"
   ]
  },
  {
   "cell_type": "code",
   "execution_count": 27,
   "id": "a9f8d503",
   "metadata": {},
   "outputs": [
    {
     "name": "stdout",
     "output_type": "stream",
     "text": [
      "Number of columns in teachers_salaries table : 16\n"
     ]
    }
   ],
   "source": [
    "cmd = \"\"\"SELECT COUNT(*) \\\n",
    "                FROM INFORMATION_SCHEMA.COLUMNS \\\n",
    "                WHERE table_schema = 'nj_state_teachers_salaries' \\\n",
    "                AND table_name = 'teachers_salaries_pset4'\"\"\"\n",
    "mycursor.execute(cmd)\n",
    "count = mycursor.fetchone()[0]\n",
    "print(f\"Number of columns in teachers_salaries table : {count}\")        "
   ]
  },
  {
   "cell_type": "markdown",
   "id": "a203aacd",
   "metadata": {},
   "source": [
    "# End of Part-1"
   ]
  },
  {
   "cell_type": "code",
   "execution_count": null,
   "id": "e6b47ff0",
   "metadata": {},
   "outputs": [],
   "source": []
  },
  {
   "cell_type": "markdown",
   "id": "c82f9052",
   "metadata": {},
   "source": [
    "### For both Part-2 and Part-3 you will need to work on MySQL workbench. For both parts you must submit .sql files. More information below. \n"
   ]
  },
  {
   "cell_type": "markdown",
   "id": "29229e41",
   "metadata": {},
   "source": [
    "# Part-2 (10 pts)"
   ]
  },
  {
   "cell_type": "markdown",
   "id": "e5727a55",
   "metadata": {},
   "source": [
    "**For this part you will generate a random sample data from the table you created in Part-1 and save it as a csv file. Generating random samples have many use cases in the real world. For example, you are a developer who is working on a software application that requires access to a critical database. Instead you maybe given only a sample of data to work with to develop your application. Another use case is bootstrapping in statistics, or when you test your models with samples of data.**"
   ]
  },
  {
   "cell_type": "markdown",
   "id": "4b6daab5",
   "metadata": {},
   "source": [
    "## Question 1 (8 pts)"
   ]
  },
  {
   "cell_type": "markdown",
   "id": "3d6381b9",
   "metadata": {},
   "source": [
    "### Use a SELECT statement to generate and output a random sample to : \n",
    "### Include all columns \n",
    "### Include field (column) headings \n",
    "### Randomly select 777 records with a seed value of 7 \n",
    "### Output results to a csv file named sample.csv \n",
    "### save your sql as  output.sql . You will submit this file as a part of this assignment. \n",
    "\n",
    "**You will find module 5 lecture on SQL Random Sample Generation useful**"
   ]
  },
  {
   "cell_type": "code",
   "execution_count": 29,
   "id": "b0dd4a04",
   "metadata": {},
   "outputs": [],
   "source": [
    "mycursor.execute(\"USE nj_state_teachers_salaries\")\n",
    "\n",
    "query_random_sample = f\"\"\"\n",
    "SELECT \n",
    "    'id',\n",
    "    'first_name',\n",
    "    'last_name',\n",
    "    'primary_job',\n",
    "    'experience_total',\n",
    "    'experience_district',\n",
    "    'experience_current_job',\n",
    "    'salary',\n",
    "    'days_worked',\n",
    "    'teaching_route',\n",
    "    'subcategory'\n",
    "UNION ALL\n",
    "SELECT\n",
    "    id,\n",
    "    first_name,\n",
    "    last_name,\n",
    "    primary_job,\n",
    "    experience_total,\n",
    "    experience_district,\n",
    "    experience_current_job,\n",
    "    salary,\n",
    "    days_worked,\n",
    "    teaching_route,\n",
    "    subcategory\n",
    "FROM teachers_salaries_pset4\n",
    "ORDER BY RAND(7)\n",
    "LIMIT 777\n",
    "INTO OUTFILE '/Users/alf/Documents/VS Code/pset4/sample.csv'\n",
    "FIELDS TERMINATED BY ','\n",
    "OPTIONALLY ENCLOSED BY '\"'\n",
    "LINES TERMINATED BY '\\\\n';\n",
    "\"\"\"\n",
    "\n",
    "with open(\"output.sql\", \"w\") as f:\n",
    "    f.write(query_random_sample)"
   ]
  },
  {
   "cell_type": "markdown",
   "id": "ee5c6647",
   "metadata": {},
   "source": [
    "## Question 2 (2 pts)"
   ]
  },
  {
   "cell_type": "markdown",
   "id": "09885ed7",
   "metadata": {},
   "source": [
    "### Create a dataframe using sample.csv generated from Question-1. Display the first 5 rows, and last 5 rows. Print the shape of the dataframe. "
   ]
  },
  {
   "cell_type": "code",
   "execution_count": null,
   "id": "bcf04910",
   "metadata": {},
   "outputs": [],
   "source": [
    "df_sample = pd.read_csv(\"sample.csv\")\n",
    "\n",
    "print(\"FIRST 5 ROWS:\")\n",
    "display(df_sample.head())\n",
    "\n",
    "print(\"\\nLAST 5 ROWS:\")\n",
    "display(df_sample.tail())\n",
    "\n",
    "\n",
    "print(\"DataFrame shape (rows, columns):\", df_sample.shape)\n"
   ]
  },
  {
   "cell_type": "markdown",
   "id": "53d13a27",
   "metadata": {},
   "source": [
    "# Part-3 (30 pts)"
   ]
  },
  {
   "cell_type": "markdown",
   "id": "e4bfaae8",
   "metadata": {},
   "source": [
    "**For this part you will work on sql queries. You will write your queries for the provided dataset teachersample.csv. We could have asked you to write the queries based on the existing table nj_state_teachers_salaries.teachers_salaries_pset4 , however everyone's data cleaning process will be different resulting in different dataset.** \n",
    "\n",
    "**All work need to be done in MySQL workbench**"
   ]
  },
  {
   "cell_type": "markdown",
   "id": "2867b4ea",
   "metadata": {},
   "source": [
    "## Question 1 \n",
    "\n"
   ]
  },
  {
   "cell_type": "markdown",
   "id": "9ced2812",
   "metadata": {},
   "source": [
    "### Create a table called salaries within the nj_state_teachers_salaries database. Load the data in to the table from the provided file teachersample.csv. The teachersample.csv does not contain the id column. Please modify your code to work with this csv file. \n",
    "\n",
    "### You don't need to submit the code for this. This table is intended only for queries in Question-2. "
   ]
  },
  {
   "cell_type": "code",
   "execution_count": null,
   "id": "4500f520",
   "metadata": {},
   "outputs": [],
   "source": [
    "mycursor.execute(\"DROP TABLE IF EXISTS salaries\")\n",
    "create_salaries = \"\"\"\n",
    "CREATE TABLE salaries (\n",
    "    first_name VARCHAR(100),\n",
    "    last_name VARCHAR(100),\n",
    "    primary_job VARCHAR(255),\n",
    "    experience_total INT,\n",
    "    experience_district INT,\n",
    "    experience_current_job INT,\n",
    "    salary FLOAT,\n",
    "    days_worked FLOAT,\n",
    "    teaching_route VARCHAR(100),\n",
    "    subcategory VARCHAR(255)\n",
    "    -- Add or adjust columns if your CSV has more/less columns\n",
    ");\n",
    "\"\"\"\n",
    "mycursor.execute(create_salaries)\n",
    "\n",
    "load_data = \"\"\"\n",
    "LOAD DATA LOCAL INFILE 'teachersample.csv'\n",
    "INTO TABLE salaries\n",
    "FIELDS TERMINATED BY ',' \n",
    "OPTIONALLY ENCLOSED BY '\"'\n",
    "LINES TERMINATED BY '\\\\n'\n",
    "IGNORE 1 LINES\n",
    "(\n",
    "  first_name,\n",
    "  last_name,\n",
    "  primary_job,\n",
    "  experience_total,\n",
    "  experience_district,\n",
    "  experience_current_job,\n",
    "  salary,\n",
    "  days_worked,\n",
    "  teaching_route,\n",
    "  subcategory\n",
    ");\n",
    "\"\"\"\n",
    "mycursor.execute(load_data)\n",
    "mydb.commit()"
   ]
  },
  {
   "cell_type": "markdown",
   "id": "dbb786aa",
   "metadata": {},
   "source": [
    "## Question 2 (30 pts)\n",
    "## Each query is worth 3 pts."
   ]
  },
  {
   "cell_type": "markdown",
   "id": "8db6f76d",
   "metadata": {},
   "source": [
    "### Write the following queries in MySQL workbench, and name the file queries.sql.  The file you submit should have the exact name for you to get credit. We will run your query, so you don't need to capture the output. The file should include only the 10 queries. Be sure to test it before submission. \n",
    "\n",
    "**Example Query for your reference:**\n",
    "\n",
    "**select count(*) from nj_state_teachers_salaries.salaries;**\n",
    "\n",
    "#### Note : Please include the name of the database and the table in each query as shown in the above example. End each query with a semicolon as shown in example.Your file queries.sql should be able to execute any any machine that has the nj_state_teachers_salaries database and the salaries table.  We will deduct upto 10 pts if queries.sql does not execute. \n"
   ]
  },
  {
   "cell_type": "code",
   "execution_count": null,
   "id": "0f160c0f-0f6c-4901-b922-94c994454d8d",
   "metadata": {},
   "outputs": [],
   "source": [
    "queries_text = \"\"\"\\\n",
    "USE nj_state_teachers_salaries;"
   ]
  },
  {
   "cell_type": "markdown",
   "id": "c3848fb2",
   "metadata": {
    "jp-MarkdownHeadingCollapsed": true
   },
   "source": [
    "### 1. Calculate the average salary "
   ]
  },
  {
   "cell_type": "markdown",
   "id": "1b4e5c0a",
   "metadata": {},
   "source": [
    "### 2. Calculate the number of people whose salary is more than 150,000. "
   ]
  },
  {
   "cell_type": "markdown",
   "id": "f18956d6",
   "metadata": {},
   "source": [
    "### 3. Get the last name of the ones who make more than 150,000 but have less than 5 years of total experience "
   ]
  },
  {
   "cell_type": "code",
   "execution_count": null,
   "id": "f6896e04",
   "metadata": {},
   "outputs": [],
   "source": [
    "SELECT AVG(salary) \n",
    "FROM nj_state_teachers_salaries.salaries;\n",
    "\n",
    "SELECT COUNT(*) \n",
    "FROM nj_state_teachers_salaries.salaries\n",
    "WHERE salary > 150000;\n",
    "\n",
    "SELECT last_name\n",
    "FROM nj_state_teachers_salaries.salaries\n",
    "WHERE salary > 150000\n",
    "  AND experience_total < 5;"
   ]
  },
  {
   "cell_type": "markdown",
   "id": "86469e13",
   "metadata": {},
   "source": [
    "### 4. Get the highest salary for Preschool, School Counselor, Principal (anyone with the word Principal in the title), School Psychologist, and Kindergarten. (These are individual queries.  You should have 5 separate queries.) "
   ]
  },
  {
   "cell_type": "code",
   "execution_count": null,
   "id": "51bb4a1f",
   "metadata": {},
   "outputs": [],
   "source": [
    "SELECT MAX(salary) AS highest_salary_preschool\n",
    "FROM nj_state_teachers_salaries.salaries\n",
    "WHERE primary_job LIKE '%Preschool%';\n",
    "\n",
    "SELECT MAX(salary) AS highest_salary_counselor\n",
    "FROM nj_state_teachers_salaries.salaries\n",
    "WHERE primary_job LIKE '%School Counselor%';\n",
    "\n",
    "SELECT MAX(salary) AS highest_salary_principal\n",
    "FROM nj_state_teachers_salaries.salaries\n",
    "WHERE primary_job LIKE '%Principal%';\n",
    "\n",
    "SELECT MAX(salary) AS highest_salary_psychologist\n",
    "FROM nj_state_teachers_salaries.salaries\n",
    "WHERE primary_job LIKE '%School Psychologist%';\n",
    "\n",
    "SELECT MAX(salary) AS highest_salary_kindergarten\n",
    "FROM nj_state_teachers_salaries.salaries\n",
    "WHERE primary_job LIKE '%Kindergarten%';"
   ]
  },
  {
   "cell_type": "markdown",
   "id": "63d4758e",
   "metadata": {},
   "source": [
    "### 5. Get the last name, first name, and salary of the lowest earner who works in Atlantic City "
   ]
  },
  {
   "cell_type": "markdown",
   "id": "fe78a518",
   "metadata": {},
   "source": [
    "### 6. Get the total number of employees working in Passaic City with more than ten years of total experience. "
   ]
  },
  {
   "cell_type": "code",
   "execution_count": null,
   "id": "43d94e14",
   "metadata": {},
   "outputs": [],
   "source": [
    "SELECT last_name, first_name, salary\n",
    "FROM nj_state_teachers_salaries.salaries\n",
    "WHERE subcategory LIKE '%Atlantic City%'\n",
    "ORDER BY salary ASC\n",
    "LIMIT 1;\n"
   ]
  },
  {
   "cell_type": "code",
   "execution_count": null,
   "id": "588dbd5d",
   "metadata": {},
   "outputs": [],
   "source": [
    "SELECT COUNT(*) AS total_passaic_over_10yrs\n",
    "FROM nj_state_teachers_salaries.salaries\n",
    "WHERE subcategory LIKE '%Passaic City%'\n",
    "  AND experience_total > 10;\n",
    "\"\"\""
   ]
  },
  {
   "cell_type": "code",
   "execution_count": null,
   "id": "312b5d10",
   "metadata": {},
   "outputs": [],
   "source": [
    "with open(\"queries.sql\", \"w\") as f:\n",
    "    f.write(queries_text)"
   ]
  },
  {
   "cell_type": "markdown",
   "id": "ad18a901",
   "metadata": {},
   "source": [
    "## Submission on Gradescope\n",
    "\n",
    "**Gradescope canvas left menu -> Gradescop -> PSET 4: Managing Data Excercise 2**\n",
    "\n",
    "**Submission :**\n",
    "\n",
    "**Part -1  : This jupyter notebook, and a pdf of this notebook.** \n",
    "\n",
    "**Part -2 : output.sql and sample.csv**\n",
    "\n",
    "**Part -3 :  queries.sql containing all your queries.  This file should only include the sql queries. Please don't include the code that created the salaries table.** \n",
    "\n",
    "\n",
    "\n",
    "**To create a pdf of this notebook :  In your browser open print, and save as pdf. Name the pdf LastNameFirstName.pdf\n",
    "example: DoeJohn.pdf**\n",
    "\n",
    "**Name this jupyter notebook with the same format LastNameFirstName.ipynb**\n",
    "\n",
    "\n",
    "**Make sure that your notebook has been run before creating pdf. Any outputs from running the code needs to be clearly visible. We need all the files from Part-1, Part-2, and Part-3 to assign you grades.** \n",
    "\n",
    "\n",
    "**Drop all the files in gradescope under PSET 4: Managing Data Exercise 2.**"
   ]
  },
  {
   "cell_type": "code",
   "execution_count": null,
   "id": "8950c84c-7936-44fe-b9e0-8161cbff16fa",
   "metadata": {},
   "outputs": [],
   "source": []
  },
  {
   "cell_type": "markdown",
   "id": "d1d3c134-b90a-48e7-9601-f1b640f045c1",
   "metadata": {},
   "source": [
    "### Submission Note (Please read)\n",
    "\n",
    "**After submitting your files on Gradescope , You may an error that says**\n",
    "\n",
    "**\"The autograder failed to execute correctly. Contact your course staff for help in debugging this issue. Make sure to include a link to this page so that they can help you most effectively.\"**\n",
    "\n",
    "### You don't have to take any action , and you do not need to contact us. The error is beacuse of some internal setup on Gradescope. As long as you have followed the specs, and submitted all the required files, you are good.\n"
   ]
  },
  {
   "cell_type": "code",
   "execution_count": null,
   "id": "9ba8b5cb-2696-4206-ab78-5ba338871a7d",
   "metadata": {},
   "outputs": [],
   "source": []
  }
 ],
 "metadata": {
  "kernelspec": {
   "display_name": "base",
   "language": "python",
   "name": "python3"
  },
  "language_info": {
   "codemirror_mode": {
    "name": "ipython",
    "version": 3
   },
   "file_extension": ".py",
   "mimetype": "text/x-python",
   "name": "python",
   "nbconvert_exporter": "python",
   "pygments_lexer": "ipython3",
   "version": "3.12.7"
  }
 },
 "nbformat": 4,
 "nbformat_minor": 5
}
