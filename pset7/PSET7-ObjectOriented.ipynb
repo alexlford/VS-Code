{
 "cells": [
  {
   "cell_type": "markdown",
   "id": "9479d6a7",
   "metadata": {},
   "source": [
    "<div style=\"font-size:16px; background-color: lightblue;border: 2px solid gray;\">\n",
    "    <h2 style =\"text-align:left; padding-top:5px;\"> CS 101 - Foundation of Data Science and Engineering </h2>\n",
    "    <p><b> PSET-7 - Object Oriented Programming\n",
    "    \n",
    "<b></p> <br>\n",
    "</div>\n",
    "        "
   ]
  },
  {
   "cell_type": "markdown",
   "id": "2d4240e0-d4d0-4ab7-8687-a9bae49fb126",
   "metadata": {},
   "source": [
    "### Objective:\n",
    " \n",
    "**In this assignment you will be working with Class, Objects and Inheritance that was discussed in the class.** "
   ]
  },
  {
   "cell_type": "markdown",
   "id": "bcd33037",
   "metadata": {},
   "source": [
    "### This is an individual assignment. No collaboration is allowed!"
   ]
  },
  {
   "cell_type": "markdown",
   "id": "0148bfe2",
   "metadata": {},
   "source": [
    "## DataAnalyzer for Student Projects"
   ]
  },
  {
   "cell_type": "markdown",
   "id": "f728a42d",
   "metadata": {},
   "source": [
    "**As a data science student, you are tasked with analyzing project data for a research lab. The lab wants to track the progress and results of various student projects to optimize resource allocation and promote effective study habits. Your program will need to manage project data and calculate statistics based on this data.**"
   ]
  },
  {
   "cell_type": "markdown",
   "id": "0d82b0f8",
   "metadata": {},
   "source": [
    "### Question 1: (5 pts)\n",
    "**Create a class called Student with the following attributes**\n",
    "\n",
    "**1.student_id**: a unique identifier for the student as an integer\n",
    "\n",
    "**2.major**: the student's major as a string (e.g., \"Computer Science\", \"Data Science\")\n",
    "\n",
    "**3.university**: the name of the university (e.g., \"Harvard\", \"MIT\", \"Other\")"
   ]
  },
  {
   "cell_type": "markdown",
   "id": "62c70b7b-c295-4c52-ab4d-e00afaf90f21",
   "metadata": {},
   "source": [
    "**Please be sure to include a constructor that can initialize the class with the above attributes. Assume inputs passed to your class will always be correct i.e. you are not required to check types, and verify uppercase or lower case.** "
   ]
  },
  {
   "cell_type": "code",
   "execution_count": null,
   "id": "a314a986",
   "metadata": {},
   "outputs": [],
   "source": [
    "class Student:\n",
    "    def __init__(student_id, major, university):\n",
    "        self.student_id = student_id\n",
    "        self.major = major\n",
    "        self.university = university\n",
    "        \n",
    "#arguents are student_id - a unique identifier for the student as an integer, major - the student's major as a string, university - the name of the university"
   ]
  },
  {
   "cell_type": "markdown",
   "id": "7ee86523-5092-431c-8112-686e2c7cb6ba",
   "metadata": {},
   "source": [
    "###  Question 2: (50 pts) "
   ]
  },
  {
   "cell_type": "markdown",
   "id": "22f08712-4f46-47b3-9be5-f7cd9910e84b",
   "metadata": {},
   "source": [
    "**Create a class called Project which is a subclass of Student with the following attributes and methods.**"
   ]
  },
  {
   "cell_type": "markdown",
   "id": "2bb9e1bc-169c-4fa5-b533-83b6eac0d187",
   "metadata": {},
   "source": [
    "### Attributes (5 points) :"
   ]
  },
  {
   "cell_type": "markdown",
   "id": "d14778d9-62db-4e00-882f-bf3be357c155",
   "metadata": {},
   "source": [
    "**Public attributes :**"
   ]
  },
  {
   "cell_type": "markdown",
   "id": "cadfe11d-9139-46fb-a2a5-36d39fee063f",
   "metadata": {},
   "source": [
    "**1. project_id: a unique identifier for the project as an integer**"
   ]
  },
  {
   "cell_type": "markdown",
   "id": "395598b2-f97a-40ea-8ddb-ca2a90408486",
   "metadata": {},
   "source": [
    "**2. data_points: a list of numerical values collected from the project**"
   ]
  },
  {
   "cell_type": "markdown",
   "id": "c776b633-b45d-4607-b653-1cfe4ce89ad0",
   "metadata": {},
   "source": [
    "**Private attributes : (In python private members are stored by adding 2 underscores in front of the name of the variable. Example: analysis_results should be declared as __analysis_results)**"
   ]
  },
  {
   "cell_type": "markdown",
   "id": "4e1d5ebe-4e89-48a1-9ec0-593d23edbf59",
   "metadata": {},
   "source": [
    "**3. analysis_results : a dictionary to store results of various analysis**"
   ]
  },
  {
   "cell_type": "markdown",
   "id": "4ecd2ed1-4064-4094-aaae-8e1d54fe5ea8",
   "metadata": {},
   "source": [
    "**4. active : a boolean indicating if the project is currently active (default is True)**"
   ]
  },
  {
   "cell_type": "markdown",
   "id": "4661e4be-608f-4a41-a1ac-ccf20ff095f8",
   "metadata": {},
   "source": [
    "### Methods 1-4(15 points) :"
   ]
  },
  {
   "cell_type": "markdown",
   "id": "a905e887-ed0b-4424-85c7-d5c033190e82",
   "metadata": {},
   "source": [
    "**1. add_data(self, new_data): Appends a new data point to the data_points list.**"
   ]
  },
  {
   "cell_type": "markdown",
   "id": "3b3892b2-0ae4-45c5-8f69-e4447dc7d64a",
   "metadata": {},
   "source": [
    "**2. get_results(self): Returns the analysis_results dictionary**"
   ]
  },
  {
   "cell_type": "markdown",
   "id": "7931fa4a-e0f8-43d9-baec-7de927bcd106",
   "metadata": {},
   "source": [
    "**3. is_active(self): Returns the status of the active attribute.**"
   ]
  },
  {
   "cell_type": "markdown",
   "id": "71388eb3-747a-42f3-be3b-15ec44e8c8c4",
   "metadata": {},
   "source": [
    "**4. set_active(self,status): Sets the status of the active attribute (True/False).**"
   ]
  },
  {
   "cell_type": "markdown",
   "id": "d2186f34-7364-4749-b0c5-99a49ce8ba5c",
   "metadata": {},
   "source": [
    "**5. perform_analysis(self): Analyzes data_points to calculate and store/update analysis_results with statistical results (mean, median, variance). (20 pts)**\n",
    "\n",
    "**Notes for perform_analysis:** \n",
    "    \n",
    "**1. The method should only store the mean, median, and variance in analysis_results dictionary.It should not return the   analysis_results.** \n",
    "    \n",
    "**2. Use the sample formula to calculate variance.**\n",
    "       \n",
    "**3. Use of inbuilt methods is not allowed for calculation of mean, median and variance**\n",
    "\n",
    "**4. Please do not omit the decimal points for each of the statistic calculated.**\n",
    "\n",
    "\n",
    "\n",
    "\n",
    "\n",
    "\n",
    "\n"
   ]
  },
  {
   "cell_type": "markdown",
   "id": "d0afa087-a3cc-4749-9c35-2ba3012b4e41",
   "metadata": {},
   "source": [
    "**Exception Handling :(10 points)**\n",
    "\n",
    "**1. Implement a mechanism to handle incorrect data type. At the minimum you should check all the data in the list are numerical in the constructor, and check if new data point being added is of numerical type. Raise an error if you encounter list that have non-numerical values and if non-numerical values are being added to the list.\n",
    "https://docs.python.org/3/library/exceptions.html#TypeError (5 pts)**\n",
    "\n",
    "\n",
    "\n",
    "**2. In your perform_analysis method use try-except to catch errors resulting from ZeroDivisionError if the list is empty.  You should print a friendly text if you encounter such error in perform_analysis method, i.e. do not raise an error. (5 points)**"
   ]
  },
  {
   "cell_type": "markdown",
   "id": "5ccfd4a6-091d-4951-8ba3-96794f6c7e3a",
   "metadata": {},
   "source": [
    "**Note: Please see Question 3 for order of parameters being passed to the constructor in the example**"
   ]
  },
  {
   "cell_type": "code",
   "execution_count": null,
   "id": "db29140b-50a4-46c4-a77e-6aed00bb5068",
   "metadata": {},
   "outputs": [],
   "source": [
    "class Project(Student):\n",
    "    def __init__(self, student_id, major, university, project_id):\n",
    "        super().__init__(student_id, major, university)\n",
    "        self.project_id = project_id\n",
    "        self.data_points = []\n",
    "        self.__analysis_results = {}\n",
    "        self.__active = True\n",
    "\n",
    "    def add_data(self, new_data):\n",
    "            #add numerical data to the data_points list\n",
    "            #arguments: new_data (int, float, or list): A number or list of numbers\n",
    "            #handle incorrect data types: if the input is not numeric or a list of numerics\n",
    "\n",
    "        if isinstance(new_data, (int, float)):\n",
    "            self.data_points.append(float(new_data))\n",
    "\n",
    "        elif isinstance(new_data, list):\n",
    "            if all(isinstance(item, (int, float)) for item in new_data):\n",
    "                self.data_points.extend([float(x) for x in new_data])\n",
    "            else:\n",
    "                raise TypeError(\"All elements in the list must be numeric.\")\n",
    "\n",
    "        else:\n",
    "            raise TypeError(\"Input must be a number or a list of numbers.\")\n",
    "    \n",
    "    def set_active(self, status):\n",
    "        #set the active status of the project\n",
    "        #arguments: status (bool): True to activate, False to deactivate\n",
    "        #handle incorrect data types: if status is not a boolean\n",
    "    \n",
    "        if not isinstance(status, bool):\n",
    "            raise ValueError(\"Status must be a boolean.\")\n",
    "        self.__active = status\n",
    "\n",
    "    def is_active(self):\n",
    "        #check whether the project is currently active\n",
    "        \n",
    "        return self.__active\n",
    "    \n",
    "    def perform_analysis(self):\n",
    "        #analyze the data_points to calculate mean, median, and variance \n",
    "        #stores the result in __analysis_results\n",
    "        #if data_points is empty print an error message\n",
    "        \n",
    "        try:\n",
    "            n = len(self.data_points)\n",
    "            if n == 0:\n",
    "                raise ZeroDivisionError(\"No data points available for analysis.\")\n",
    "\n",
    "            # Mean\n",
    "            total = sum(self.data_points)\n",
    "            mean = total / n\n",
    "\n",
    "            # Median\n",
    "            sorted_data = sorted(self.data_points)\n",
    "            if n % 2 == 1:\n",
    "                median = float(sorted_data[n // 2])\n",
    "            else:\n",
    "                mid1 = sorted_data[n // 2 - 1]\n",
    "                mid2 = sorted_data[n // 2]\n",
    "                median = (mid1 + mid2) / 2.0\n",
    "\n",
    "            # Sample Variance\n",
    "            squared_diffs = [(x - mean) ** 2 for x in self.data_points]\n",
    "            if n == 1:\n",
    "                variance = 0.0  # sample variance undefined, assume 0\n",
    "            else:\n",
    "                variance = sum(squared_diffs) / (n - 1)\n",
    "\n",
    "            self.__analysis_results = {\n",
    "                \"mean\": round(mean, 2),\n",
    "                \"median\": round(median, 2),\n",
    "                \"variance\": round(variance, 2)\n",
    "            }\n",
    "\n",
    "        except ZeroDivisionError:\n",
    "            print(\"Cannot perform analysis: No data points available.\")\n",
    "\n"
   ]
  },
  {
   "cell_type": "code",
   "execution_count": null,
   "id": "bb61d4f7-c20b-4227-ad26-3a1c3c8e712d",
   "metadata": {},
   "outputs": [],
   "source": []
  },
  {
   "cell_type": "markdown",
   "id": "509b030a",
   "metadata": {},
   "source": [
    "#### Question-3 - Testing your code (5 pts)\n",
    "**Write at least 5 test cases to test different parts of your implementation. We have provided an example. You will get full points as long as you have 5 test cases and a description of what is being tested. Please be sure to include at lease 2 test cases for perform_analyis method which should include at least one test case for checking exceptions. You are welcome to write your test cases using python unit test library. However, it is not required.**"
   ]
  },
  {
   "cell_type": "code",
   "execution_count": null,
   "id": "07d57365-3c20-4d85-b192-07754d5dabdb",
   "metadata": {},
   "outputs": [],
   "source": [
    "#Example 1- Test Student Class constructor with student_id 1001, major \"Data Science, and university Harvard\"\n",
    "\n",
    "john = Student(1001, \"Data Science\", \"Harvard\")\n",
    "print(f\"Student id is : {john.student_id}\\nMajor: {john.major}\\nUniversity:{john.university}\")\n",
    "\n"
   ]
  },
  {
   "cell_type": "code",
   "execution_count": null,
   "id": "7af7127e-ae3d-47aa-b0f6-35b9b64448c6",
   "metadata": {},
   "outputs": [],
   "source": [
    "#Example 2- Test Project Class constructor with student_id 1001, major \"Data Science, university Harvard, project_id 1, \n",
    "#data_points [65,75,95,99]\"\n",
    "\n",
    "my_project = Project(1001, \"Data Science\", \"Harvard\", 1, [65,75,95,99])\n",
    "print(f\"Student id is : {my_project.student_id}\\nMajor: {my_project.major}\\nUniversity:{my_project.university}\\n\\\n",
    "project_id:{my_project.project_id}\\ndata_points : {my_project.data_points}\\nis_active:{my_project.is_active()}\" )\n"
   ]
  },
  {
   "cell_type": "code",
   "execution_count": null,
   "id": "6baae78b-7a84-4e65-97ce-fe4017e1ccd7",
   "metadata": {},
   "outputs": [],
   "source": [
    "#Test that a Project object can be instantiated with valid input values\n",
    "my_project2 = Project(101, \"Data Science\", \"University of Illinois\", 501)\n",
    "print(\"Test Case 3 Passed: Project object created successfully.\")"
   ]
  },
  {
   "cell_type": "code",
   "execution_count": null,
   "id": "0d46c359-44ba-46ba-9fcd-3db0a6d48b73",
   "metadata": {},
   "outputs": [],
   "source": [
    "#Test that numeric data can be added successfully\n",
    "my_project2.add_data([10, 20, 30])\n",
    "print(\"Test Case 4 Passed: Data added:\", my_project2.data_points)"
   ]
  },
  {
   "cell_type": "code",
   "execution_count": null,
   "id": "e6f87432-ea3e-4eb3-b63d-88b06035e7af",
   "metadata": {},
   "outputs": [],
   "source": [
    "#test that add_data raises an error when given non-numeric input\n",
    "try:\n",
    "    my_project2.add_data([\"bad\", 22])\n",
    "    print(\"Test Case 5 Failed: No error raised.\")\n",
    "except TypeError:\n",
    "    print(\"Test Case 5 Passed: TypeError raised for invalid data.\")"
   ]
  },
  {
   "cell_type": "code",
   "execution_count": null,
   "id": "306452e0-6f6a-4627-9bdb-8d7a9a21e8cf",
   "metadata": {},
   "outputs": [],
   "source": [
    "#test that perform_analysis() works and stores results correctly\n",
    "my_project2.perform_analysis()\n",
    "print(\"Test Case 6 Passed: Analysis results:\", my_project2._Project__analysis_results)"
   ]
  },
  {
   "cell_type": "code",
   "execution_count": null,
   "id": "0fa3228b",
   "metadata": {},
   "outputs": [],
   "source": [
    "#test that perform_analysis() handles empty data\n",
    "my_project3 = Project(2, \"Math\", \"University of Kansas\", 109)\n",
    "my_project3.perform_analysis()  # Should print message\n",
    "print(\"Test Case 7 Passed: No crash on empty data.\")"
   ]
  },
  {
   "cell_type": "markdown",
   "id": "a58268e0-cf40-4d7e-92a8-70f4d39542d0",
   "metadata": {},
   "source": [
    "### Question 4-9 (30 points)\n",
    "**Absolute Tests - For Question 4-9 simply run the cell below. We will verify your output with expected outputs.\n",
    "You implementation should be based on the requirement and not these test cases. If you have implemented the requirement correctly, your output should be as expected. Your implementation should be correct to get full credit here. Please do not modify the code for question 4-9**"
   ]
  },
  {
   "cell_type": "markdown",
   "id": "92e49b28-6cf1-4b21-9f3d-0a85cba5b79b",
   "metadata": {},
   "source": [
    "### Question 4: Tests Class and Objects are created, and perform_analysis yields results as expected. (10 pts) "
   ]
  },
  {
   "cell_type": "code",
   "execution_count": null,
   "id": "3155b352-9639-48c4-a61d-5a3da37b91c7",
   "metadata": {},
   "outputs": [],
   "source": [
    "test1 = [(1000, 'Computer Science', 'HARVARD', 1, [65,75,95,99]),(1001, 'Computer Science', 'MIT', 2, [95,35,75,90,91]),\\\n",
    "         (1003,'Data Science', 'Cornell', 3, [75,85,95,99,33])]\n",
    "\n",
    "\n",
    "for test in test1:\n",
    "    project = Project(test[0],test[1],test[2],test[3],test[4])\n",
    "    project.perform_analysis()\n",
    "    project_info = f\"Student id : {project.student_id}\\nMajor: {project.major}\\nUniversity:{project.university}\\n\\\n",
    "project_id:{project.project_id}\\ndata_points : {project.data_points}\\nis_active:{project.is_active()}\"\n",
    "    print(project_info)\n",
    "    print(f\"analysis results :{project.get_results()}\\n\")\n"
   ]
  },
  {
   "cell_type": "code",
   "execution_count": null,
   "id": "d161cd39-fce8-4343-87f2-1dd5e713fa05",
   "metadata": {},
   "outputs": [],
   "source": []
  },
  {
   "cell_type": "markdown",
   "id": "ad6371de-1f38-4860-af92-60946a5e3d56",
   "metadata": {},
   "source": [
    "### Question 5: Tests if data points can be added and data statistics are updated.(5 points)"
   ]
  },
  {
   "cell_type": "code",
   "execution_count": null,
   "id": "8d9950ad-7528-492b-b6f2-c92981fb8d61",
   "metadata": {},
   "outputs": [],
   "source": [
    "test = (1000, 'Computer Science', 'HARVARD', 1, [65,75,95,99])\n",
    "project = Project(test[0],test[1],test[2],test[3],test[4])\n",
    "project.perform_analysis()\n",
    "print(f\"analysis results before : {project.get_results()}\")\n",
    "project.add_data(22)\n",
    "project.perform_analysis()\n",
    "print(f\"analysis results after: {project.get_results()}\")\n"
   ]
  },
  {
   "cell_type": "code",
   "execution_count": null,
   "id": "c14965ce-e0e0-4342-aeb4-e957d1a8a9fd",
   "metadata": {},
   "outputs": [],
   "source": []
  },
  {
   "cell_type": "markdown",
   "id": "1e5f8743-0879-4d3d-b095-907778d1986c",
   "metadata": {},
   "source": [
    "### Question 6: Tests if active can be set (5 points) \n"
   ]
  },
  {
   "cell_type": "code",
   "execution_count": null,
   "id": "dd6ea14a-46f6-4e43-ada8-d63a18c1dda0",
   "metadata": {},
   "outputs": [],
   "source": [
    "test = (1000, 'Computer Science', 'HARVARD', 1, [65,75,95,99])\n",
    "project = Project(test[0],test[1],test[2],test[3],test[4])\n",
    "print(f\"value of active at initialization: {project.is_active()}\")\n",
    "project.set_active(False)\n",
    "print(f\"value of active after calling set method: {project.is_active()}\")"
   ]
  },
  {
   "cell_type": "code",
   "execution_count": null,
   "id": "83952d0d-7977-40e3-bf63-4123fe18dde8",
   "metadata": {},
   "outputs": [],
   "source": []
  },
  {
   "cell_type": "markdown",
   "id": "2d7cf656-b99e-4010-a5b2-f4fb69d58f6b",
   "metadata": {},
   "source": [
    "### Question 7: Tests if perform_analysis can handle exceptions for empty list (4 points) "
   ]
  },
  {
   "cell_type": "code",
   "execution_count": null,
   "id": "497d0c21-8a5c-4abf-82cb-da965de35c29",
   "metadata": {},
   "outputs": [],
   "source": [
    "test1 = (1000, 'Computer Science', 'HARVARD', 1, [])\n",
    "\n",
    "print(f\"Test #1 : Test perform analysis if the data points is an empty list.\")\n",
    "project = Project(test1[0],test1[1],test1[2],test1[3],test1[4])\n",
    "project.perform_analysis()\n",
    "\n",
    "\n",
    "\n",
    "    "
   ]
  },
  {
   "cell_type": "markdown",
   "id": "a83c5c38-150f-4c20-acb4-5f9e834c9ae0",
   "metadata": {},
   "source": [
    "### Question 8: Tests if constructor raises an error if non-numerical values are present in data_points (3 pts)"
   ]
  },
  {
   "cell_type": "code",
   "execution_count": null,
   "id": "25e783fc-a277-43d7-837e-c3308b0a5b5b",
   "metadata": {},
   "outputs": [],
   "source": [
    "test2 = (1001, 'Computer Science', 'MIT', 2, [95,35,75,90,'a'])\n",
    "#print(f\"\\nTest #3 : Test constructor if data points has non-numerical values.\")\n",
    "project = Project(test2[0],test2[1],test2[2],test2[3],test2[4])\n",
    "\n"
   ]
  },
  {
   "cell_type": "markdown",
   "id": "c184125e-2c2a-42cb-9b31-03174d05a96d",
   "metadata": {},
   "source": [
    "### Question 9: Tests if adding non-numerical values to data_points raises an error (3 pts)"
   ]
  },
  {
   "cell_type": "code",
   "execution_count": null,
   "id": "608837b8-49e7-4481-80e5-272ed593cba7",
   "metadata": {},
   "outputs": [],
   "source": [
    "test3 = (1000, 'Computer Science', 'HARVARD', 3, [100,100,100])\n",
    "project = Project(test3[0],test3[1],test3[2],test3[3],test3[4])\n",
    "project.add_data('xyz')\n"
   ]
  },
  {
   "cell_type": "code",
   "execution_count": null,
   "id": "3f5c12f9-b15b-4247-920c-87d7bff4978f",
   "metadata": {},
   "outputs": [],
   "source": []
  },
  {
   "cell_type": "code",
   "execution_count": null,
   "id": "c6f75bd7-f1c0-450e-abb6-b3822d44f1c5",
   "metadata": {},
   "outputs": [],
   "source": []
  },
  {
   "cell_type": "markdown",
   "id": "f535c509-473d-4c40-8caa-13241d94a934",
   "metadata": {},
   "source": [
    "### Question 10 (5 pts)\n",
    "\n",
    "**Working with Class and objects is very important in data science\n",
    "You will be working with a lot of python libraries  which are all created using class and objects.\n",
    "You have already worked with pandas. Let's tie what you have learned in this homework\n",
    "with what you have already learned. Run the cell below, and answer the question that follow**   \n",
    "      "
   ]
  },
  {
   "cell_type": "code",
   "execution_count": null,
   "id": "2ff43793-f079-43bb-a577-b444488cb441",
   "metadata": {
    "scrolled": true
   },
   "outputs": [],
   "source": [
    "import pandas as pd\n",
    "midterm_scores = [96,90,85]\n",
    "df = pd.DataFrame(midterm_scores, columns=['midterm_scores'])\n",
    "\n",
    "shape = df.shape\n",
    "print(shape)\n",
    "df.sort_values(by='midterm_scores', ascending=False)\n"
   ]
  },
  {
   "cell_type": "markdown",
   "id": "066045ef-5742-42ad-bc25-1486973c149d",
   "metadata": {},
   "source": [
    "1. Identify the class name and the parameters which is being used to create the object df. Please refer to pandas documentation to answer this question. https://pandas.pydata.org/docs/reference/api/pandas.DataFrame.html (2pt)\n",
    "2. Identify the attribute being called on the object df. (1pt)\n",
    "3. Identify the method, and the method parameters being called by our object df. (2 pt)\n",
    "\n"
   ]
  },
  {
   "cell_type": "markdown",
   "id": "96eab8c9-563e-4b4c-8c29-e28d5db74f6b",
   "metadata": {},
   "source": [
    "**your answer here**\n",
    "\n",
    "\n",
    "\n"
   ]
  },
  {
   "cell_type": "code",
   "execution_count": null,
   "id": "6b8084e2-225b-4c1f-a7c8-20ac1add5c61",
   "metadata": {},
   "outputs": [],
   "source": []
  },
  {
   "cell_type": "markdown",
   "id": "b6c76967-5f66-40b3-89a3-1be54855bbb7",
   "metadata": {},
   "source": [
    "### Coding style (5 pts)\n",
    "Please make sure your code follows the coding style as defined here.\n",
    "\n",
    "1. Comments on functions.\n",
    "2. Additional comments on parts of code that maybe difficult to understand\n",
    "3. Remove any commented code i.e. your solution should only include the code required by the assignment. All experiemental code needs to removed on the submitted file.\n",
    "4. Code Readibility (if part of your code is long, use multiple lines)\n",
    "\n",
    "    "
   ]
  },
  {
   "cell_type": "markdown",
   "id": "2c58e3dd-3357-4a3f-814c-ac0018763817",
   "metadata": {},
   "source": [
    "## Submission on Gradescope\n",
    "\n",
    "On canvas left menu -> click on Gradescope\n",
    "\n",
    "\n",
    "Submit the jupyter notebook, and a pdf version of this notebook.\n",
    "\n",
    "To create a pdf of this notebook :  In your browser open print, and save as pdf. Name the pdf LastNameFirstName_pset7.pdf\n",
    "example: DoeJohn_pset7.pdf\n",
    "\n",
    "Name this jupyter notebook with the same format LastNameFirstName.ipynb\n",
    "\n",
    "\n",
    "Make sure that your notebook has been run before creating pdf. Any outputs from running the code needs to be clearly visible. We need both .ipynb, and pdf of this notebook to assign you grades. \n",
    "\n",
    "Drop all the files in gradescope under PSET 7: Python OO Programming Exercise\n",
    "\n"
   ]
  },
  {
   "cell_type": "code",
   "execution_count": null,
   "id": "69ed46a6",
   "metadata": {},
   "outputs": [],
   "source": []
  }
 ],
 "metadata": {
  "kernelspec": {
   "display_name": "Python 3 (ipykernel)",
   "language": "python",
   "name": "python3"
  },
  "language_info": {
   "codemirror_mode": {
    "name": "ipython",
    "version": 3
   },
   "file_extension": ".py",
   "mimetype": "text/x-python",
   "name": "python",
   "nbconvert_exporter": "python",
   "pygments_lexer": "ipython3",
   "version": "3.13.2"
  }
 },
 "nbformat": 4,
 "nbformat_minor": 5
}
